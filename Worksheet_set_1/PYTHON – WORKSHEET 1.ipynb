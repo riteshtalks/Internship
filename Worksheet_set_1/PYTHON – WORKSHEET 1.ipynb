{
 "cells": [
  {
   "cell_type": "markdown",
   "id": "82bf840b",
   "metadata": {},
   "source": [
    "##### 1. Which of the following operators is used to calculate remainder in a division?\n",
    "##### The answer is:  C) %\n",
    "##### \n",
    "##### 2. In python 2//3 is equal to?\n",
    "##### The answer is:  B) 0\n",
    "##### \n",
    "##### 3. In python, 6<<2 is equal to?\n",
    "##### The answer is: C) 24\n",
    "##### \n",
    "##### 4. In python, 6&2 will give which of the following as output?\n",
    "##### The answer is: A) 2\n",
    "##### \n",
    "##### 5. In python, 6|2 will give which of the following as output?\n",
    "##### The answer is: D) 6\n",
    "##### \n",
    "##### 6. What does the finally keyword denotes in python?\n",
    "##### The answer is: C) the finally block will be executed no matter if the try block raises an error or not.\n",
    "##### \n",
    "##### What does raise keyword is used for in python?\n",
    "##### The answer is: A) It is used to raise an exception.\n",
    "##### \n",
    "##### 8. Which of the following is a common use case of yield keyword in python?\n",
    "##### The answer is: The answer is: A) in defining an iterator\n",
    "##### "
   ]
  },
  {
   "cell_type": "markdown",
   "id": "35e0f829",
   "metadata": {},
   "source": [
    "##### 9. Which of the following are the valid variable names?\n",
    "##### The answer is:  A) _abc & C) abc2\n",
    "##### \n",
    "##### 10. Which of the following are the keywords in python?\n",
    "##### The answer is: D) all of the above\n",
    "##### "
   ]
  },
  {
   "cell_type": "markdown",
   "id": "5cff6af1",
   "metadata": {},
   "source": [
    "##### 11. Write a python program to find the factorial of a number."
   ]
  },
  {
   "cell_type": "code",
   "execution_count": 15,
   "id": "b9339ae0",
   "metadata": {},
   "outputs": [
    {
     "name": "stdout",
     "output_type": "stream",
     "text": [
      "Enter any integer to find it's factorial: 7\n",
      "The factorial of 7  is: 5040\n"
     ]
    }
   ],
   "source": [
    "num = int(input(\"Enter any integer to find it's factorial: \"))\n",
    "factorial = 1\n",
    "\n",
    "# Check the negativity of a number\n",
    "if num < 0:\n",
    "    print(\"Negative number. Factorial doesn't exist for negative number.\")\n",
    "elif num == 0:\n",
    "    print(\"The factorial of 0 is: \", factorial)\n",
    "else:\n",
    "    for i in range(1,num+1):\n",
    "        factorial = factorial*i\n",
    "    print(\"The factorial of\", num, \" is:\",factorial)"
   ]
  },
  {
   "cell_type": "markdown",
   "id": "de32de8c",
   "metadata": {},
   "source": [
    "##### 12. Write a python program to find whether a number is prime or composite."
   ]
  },
  {
   "cell_type": "code",
   "execution_count": 19,
   "id": "1b774b0b",
   "metadata": {},
   "outputs": [
    {
     "name": "stdout",
     "output_type": "stream",
     "text": [
      "Enter any integer to find whether a number is prime or composite: 8\n",
      "The number 8 is a Composite number\n"
     ]
    }
   ],
   "source": [
    "number = int(input(\"Enter any integer to find whether a number is prime or composite: \"))\n",
    "flag = False\n",
    "\n",
    "if number > 1:\n",
    "    for i in range(2, number):\n",
    "        if(number % i == 0):\n",
    "            flag = True\n",
    "            break\n",
    "\n",
    "if flag:\n",
    "    print(\"The number\",number,\"is a Composite number\")\n",
    "else:\n",
    "    print(\"The number\",number,\"is a Prime number\")"
   ]
  },
  {
   "cell_type": "markdown",
   "id": "ebc0af2a",
   "metadata": {},
   "source": [
    "##### 13. Write a python program to check whether a given string is palindrome or not."
   ]
  },
  {
   "cell_type": "code",
   "execution_count": 22,
   "id": "f02db56e",
   "metadata": {},
   "outputs": [
    {
     "name": "stdout",
     "output_type": "stream",
     "text": [
      "Enter any string to find whether a string is Palindrome or not: Cuttuc\n",
      "The string cuttuc is a Palindrome\n"
     ]
    }
   ],
   "source": [
    "str = input(\"Enter any string to find whether a string is Palindrome or not: \")\n",
    "str = str.casefold()\n",
    "\n",
    "#reverse the string\n",
    "rev_str = reversed(str)\n",
    "\n",
    "#Check\n",
    "if list(str) == list(rev_str):\n",
    "    print(\"The string\",str,\"is a Palindrome\")\n",
    "else:\n",
    "    print(\"The string\",str,\"is not a Palindrome\")"
   ]
  },
  {
   "cell_type": "markdown",
   "id": "58087e7e",
   "metadata": {},
   "source": [
    "##### 14. Write a Python program to get the third side of right-angled triangle from two given sides."
   ]
  },
  {
   "cell_type": "code",
   "execution_count": 27,
   "id": "e8ff9775",
   "metadata": {},
   "outputs": [
    {
     "name": "stdout",
     "output_type": "stream",
     "text": [
      "Enter the first side: 3\n",
      "Enter the second side: 4\n",
      "The third side of the right angles triangle is: 5.0\n"
     ]
    }
   ],
   "source": [
    "import math\n",
    "first_side = int(input(\"Enter the first side: \"))\n",
    "second_side = int(input(\"Enter the second side: \"))\n",
    "third_side = math.sqrt(first_side**2 + second_side**2)\n",
    "\n",
    "print(\"The third side of the right angles triangle is:\",third_side)"
   ]
  },
  {
   "cell_type": "markdown",
   "id": "e1955b90",
   "metadata": {},
   "source": [
    "##### 15. Write a python program to print the frequency of each of the characters present in a given string."
   ]
  },
  {
   "cell_type": "code",
   "execution_count": 30,
   "id": "9d1d88d9",
   "metadata": {},
   "outputs": [
    {
     "name": "stdout",
     "output_type": "stream",
     "text": [
      "Enter any string: Akash\n",
      "The frequency of each of the characters present in a given string akash is:\n",
      " {'a': 2, 'k': 1, 's': 1, 'h': 1}\n"
     ]
    }
   ],
   "source": [
    "string = input(\"Enter any string: \")\n",
    "string = string.casefold()\n",
    "frequency_of_characters = {}\n",
    "for i in string:\n",
    "    if i in frequency_of_characters:\n",
    "        frequency_of_characters[i] += 1\n",
    "    else:\n",
    "        frequency_of_characters[i] = 1\n",
    "        \n",
    "print(\"The frequency of each of the characters present in a given string\",string,\"is:\\n\",frequency_of_characters)"
   ]
  }
 ],
 "metadata": {
  "kernelspec": {
   "display_name": "Python 3",
   "language": "python",
   "name": "python3"
  },
  "language_info": {
   "codemirror_mode": {
    "name": "ipython",
    "version": 3
   },
   "file_extension": ".py",
   "mimetype": "text/x-python",
   "name": "python",
   "nbconvert_exporter": "python",
   "pygments_lexer": "ipython3",
   "version": "3.8.8"
  }
 },
 "nbformat": 4,
 "nbformat_minor": 5
}
